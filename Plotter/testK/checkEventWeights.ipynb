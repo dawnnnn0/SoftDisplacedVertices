{
 "cells": [
  {
   "cell_type": "code",
   "execution_count": 2,
   "id": "1a5ed843-0061-434c-a7b3-b14452384a22",
   "metadata": {},
   "outputs": [],
   "source": [
    "import json"
   ]
  },
  {
   "cell_type": "code",
   "execution_count": 4,
   "id": "4b6ec8ff-321f-4fca-b18c-2e4e59a29ede",
   "metadata": {},
   "outputs": [
    {
     "name": "stdout",
     "output_type": "stream",
     "text": [
      "Event weight for wjetstolnuht0100_2017 = 5.66\n",
      "Event weight for wjetstolnuht0200_2017 = 0.395\n",
      "Event weight for wjetstolnuht0400_2017 = 0.402\n",
      "Event weight for wjetstolnuht0600_2017 = 0.0991\n",
      "Event weight for wjetstolnuht0800_2017 = 0.0474\n",
      "Event weight for wjetstolnuht1200_2017 = 0.0117\n",
      "Event weight for wjetstolnuht2500_2017 = 0.00114\n",
      "Event weight for zjetstonunuht0100_2017 = 0.747\n",
      "Event weight for zjetstonunuht0200_2017 = 0.227\n",
      "Event weight for zjetstonunuht0400_2017 = 0.0392\n",
      "Event weight for zjetstonunuht0600_2017 = 0.0295\n",
      "Event weight for zjetstonunuht0800_2017 = 0.0398\n",
      "Event weight for zjetstonunuht1200_2017 = 0.0551\n",
      "Event weight for zjetstonunuht2500_2017 = 0.00201\n"
     ]
    }
   ],
   "source": [
    "int_lumi = 41.48 * 1e3\n",
    "\n",
    "with open(\"../Samples/json/MC_RunIISummer20UL17.json\") as f:\n",
    "    d = json.load(f)\n",
    "    for tag, sumW in d['CustomMiniAOD']['totalsumWeights'].items():\n",
    "        num_events_exp = d['xs'][tag] * int_lumi\n",
    "        print(f'Event weight for {tag} = {num_events_exp / sumW:.3g}')"
   ]
  },
  {
   "cell_type": "code",
   "execution_count": null,
   "id": "8702bf34-0895-4569-a386-8c6279549f7d",
   "metadata": {},
   "outputs": [],
   "source": []
  }
 ],
 "metadata": {
  "kernelspec": {
   "display_name": "coffea_torch2",
   "language": "python",
   "name": "python3"
  },
  "language_info": {
   "codemirror_mode": {
    "name": "ipython",
    "version": 3
   },
   "file_extension": ".py",
   "mimetype": "text/x-python",
   "name": "python",
   "nbconvert_exporter": "python",
   "pygments_lexer": "ipython3",
   "version": "3.11.9"
  }
 },
 "nbformat": 4,
 "nbformat_minor": 5
}
